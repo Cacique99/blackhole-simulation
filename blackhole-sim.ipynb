{
 "cells": [
  {
   "cell_type": "code",
   "execution_count": 1,
   "metadata": {},
   "outputs": [
    {
     "data": {
      "text/html": [
       "<div id=\"glowscript\" class=\"glowscript\"></div>"
      ],
      "text/plain": [
       "<IPython.core.display.HTML object>"
      ]
     },
     "metadata": {},
     "output_type": "display_data"
    },
    {
     "data": {
      "application/javascript": [
       "if (typeof Jupyter !== \"undefined\") { window.__context = { glowscript_container: $(\"#glowscript\").removeAttr(\"id\")};}else{ element.textContent = ' ';}"
      ],
      "text/plain": [
       "<IPython.core.display.Javascript object>"
      ]
     },
     "metadata": {},
     "output_type": "display_data"
    },
    {
     "data": {
      "application/javascript": [
       "if (typeof Jupyter !== \"undefined\") {require.undef(\"nbextensions/vpython_libraries/glow.min\");}else{element.textContent = ' ';}"
      ],
      "text/plain": [
       "<IPython.core.display.Javascript object>"
      ]
     },
     "metadata": {},
     "output_type": "display_data"
    },
    {
     "data": {
      "application/javascript": [
       "if (typeof Jupyter !== \"undefined\") {require.undef(\"nbextensions/vpython_libraries/glowcomm\");}else{element.textContent = ' ';}"
      ],
      "text/plain": [
       "<IPython.core.display.Javascript object>"
      ]
     },
     "metadata": {},
     "output_type": "display_data"
    },
    {
     "data": {
      "application/javascript": [
       "if (typeof Jupyter !== \"undefined\") {require.undef(\"nbextensions/vpython_libraries/jquery-ui.custom.min\");}else{element.textContent = ' ';}"
      ],
      "text/plain": [
       "<IPython.core.display.Javascript object>"
      ]
     },
     "metadata": {},
     "output_type": "display_data"
    },
    {
     "data": {
      "application/javascript": [
       "if (typeof Jupyter !== \"undefined\") {require([\"nbextensions/vpython_libraries/glow.min\"], function(){console.log(\"GLOW LOADED\");});}else{element.textContent = ' ';}"
      ],
      "text/plain": [
       "<IPython.core.display.Javascript object>"
      ]
     },
     "metadata": {},
     "output_type": "display_data"
    },
    {
     "data": {
      "application/javascript": [
       "if (typeof Jupyter !== \"undefined\") {require([\"nbextensions/vpython_libraries/glowcomm\"], function(){console.log(\"GLOWCOMM LOADED\");});}else{element.textContent = ' ';}"
      ],
      "text/plain": [
       "<IPython.core.display.Javascript object>"
      ]
     },
     "metadata": {},
     "output_type": "display_data"
    },
    {
     "data": {
      "application/javascript": [
       "if (typeof Jupyter !== \"undefined\") {require([\"nbextensions/vpython_libraries/jquery-ui.custom.min\"], function(){console.log(\"JQUERY LOADED\");});}else{element.textContent = ' ';}"
      ],
      "text/plain": [
       "<IPython.core.display.Javascript object>"
      ]
     },
     "metadata": {},
     "output_type": "display_data"
    },
    {
     "name": "stdout",
     "output_type": "stream",
     "text": [
      "Schwarzschild Radius: 1484275174.775527\n",
      "\n",
      "exiting\n"
     ]
    }
   ],
   "source": [
    "    from vpython import *\n",
    "    import random\n",
    "    from math import sqrt\n",
    "    \n",
    "    # Declared necessary constants and variables\n",
    "    time = 0\n",
    "    dt = 1e-2\n",
    "    G = 6.67e-11\n",
    "    c = 299792458\n",
    "    \n",
    "    # Creates black hole\n",
    "    black_hole = sphere(pos=vector(0, 0, 0), color=color.red, opacity = 0.2, mass = float(10e35), make_trail=True)\n",
    "    black_hole.radius = (2 * G * black_hole.mass)/c**2\n",
    "    black_hole.vel = vector(0, 0, 0)\n",
    "    black_hole.mom = black_hole.vel * black_hole.mass\n",
    "    \n",
    "    stars = []\n",
    "    \n",
    "    # Create stars\n",
    "    star = sphere(pos = vector(black_hole.radius + 1e10, 0, 0),\n",
    "                  radius = 15,\n",
    "                  make_trail = True,\n",
    "                  mass = 10e25)\n",
    "    star.vel = vector(0, 10000000, 0)\n",
    "    star.mom = star.mass*star.vel\n",
    "\n",
    "    stars.append(star)\n",
    "    \n",
    "\n",
    "    \n",
    "    print(f'Schwarzschild Radius: {black_hole.radius}\\n')\n",
    "    \n",
    "    while True:\n",
    "        rate(1000)\n",
    "        \n",
    "        isExiting = False\n",
    "    \n",
    "        for star in stars:\n",
    "            r = star.pos - black_hole.pos\n",
    "            \n",
    "            if mag(r) < star.radius + black_hole.radius:\n",
    "                print(\"exiting\")\n",
    "                isExiting = True\n",
    "                break\n",
    "            \n",
    "            lf_1 = 1/sqrt(1 - (mag(star.vel)**2/c**2))\n",
    "            dt_rel_1 = dt*lf_1\n",
    "            force = -G * star.mass * black_hole.mass * r / mag(r)**3\n",
    "            star.mom += force * dt_rel_1\n",
    "            star.vel = star.mom/star.mass\n",
    "            star.pos += star.vel * dt_rel_1\n",
    "            \n",
    "            lf_2 = 1/sqrt(1 - (mag(black_hole.vel)**2/c**2))\n",
    "            dt_rel_2 = dt*lf_2\n",
    "            black_hole.mom += -force * dt_rel_2\n",
    "            black_hole.vel = black_hole.mom/black_hole.mass\n",
    "            black_hole.pos += black_hole.vel * dt_rel_2\n",
    "            \n",
    "            #print(f'mass: {star.mass}')\n",
    "            #print(f'force: {force}')\n",
    "            #print(f'star.mom: {star.mom}')\n",
    "            #print(f'star.vel: {star.vel}')\n",
    "            #print(f'star.pos: {star.pos}')\n",
    "            #print(f'lf: {lf}')\n",
    "            #print('\\n')\n",
    "            \n",
    "        if isExiting:\n",
    "            break\n",
    "    \n",
    "        time += dt_rel_1"
   ]
  },
  {
   "cell_type": "code",
   "execution_count": null,
   "metadata": {},
   "outputs": [],
   "source": []
  },
  {
   "cell_type": "code",
   "execution_count": null,
   "metadata": {},
   "outputs": [],
   "source": []
  }
 ],
 "metadata": {
  "kernelspec": {
   "display_name": "Python 3",
   "language": "python",
   "name": "python3"
  },
  "language_info": {
   "codemirror_mode": {
    "name": "ipython",
    "version": 3
   },
   "file_extension": ".py",
   "mimetype": "text/x-python",
   "name": "python",
   "nbconvert_exporter": "python",
   "pygments_lexer": "ipython3",
   "version": "3.8.5"
  }
 },
 "nbformat": 4,
 "nbformat_minor": 4
}
